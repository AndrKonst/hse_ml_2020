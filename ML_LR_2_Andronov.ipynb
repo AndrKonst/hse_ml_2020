{
 "cells": [
  {
   "cell_type": "code",
   "execution_count": 1,
   "metadata": {},
   "outputs": [],
   "source": [
    "import numpy as np\n",
    "import cv2\n",
    "from matplotlib import pyplot as plt"
   ]
  },
  {
   "cell_type": "code",
   "execution_count": 99,
   "metadata": {},
   "outputs": [],
   "source": [
    "# В любой непонятной ситуации не забудь удалить все окна.\n",
    "cap.release()\n",
    "cv2.destroyAllWindows()"
   ]
  },
  {
   "cell_type": "code",
   "execution_count": 3,
   "metadata": {},
   "outputs": [],
   "source": [
    "# Открываем видеопоток со стандартной камеры.\n",
    "cap = cv2.VideoCapture(0)\n",
    "\n",
    "# считаем 2 первых кадра\n",
    "ret, frame1 = cap.read()\n",
    "ret, frame2 = cap.read()\n",
    "\n",
    "# параметры ShiTomasi для поиска углов\n",
    "feature_params = dict( maxCorners = 100,\n",
    "                       qualityLevel = 0.3,\n",
    "                       minDistance = 7,\n",
    "                       blockSize = 7 )\n",
    "# параметры lucas-kanade для отслеживания оптического потока\n",
    "lk_params = dict( winSize  = (15,15),\n",
    "                  maxLevel = 2,\n",
    "                  criteria = (cv2.TERM_CRITERIA_EPS | cv2.TERM_CRITERIA_COUNT, 10, 0.03))\n",
    "# Найдем начальные точки, которые будут отслеживаться\n",
    "p0 = cv2.goodFeaturesToTrack(cv2.cvtColor(frame1, cv2.COLOR_BGR2GRAY), mask = None, **feature_params)\n",
    "#p0 = np.float32(np.array([np.array([np.array([0, frame1.shape[1]//2])]), \n",
    "#               np.array([np.array([frame1.shape[0]//2, 0])]),\n",
    "#               np.array([np.array([frame1.shape[0], frame1.shape[1]//2])]),\n",
    "#               np.array([np.array([frame1.shape[0]//2, frame1.shape[1]])])]))\n",
    "# Значения ширины и высоты смещения кадра\n",
    "fr_w = 0\n",
    "fr_h = 0\n",
    "while cap.isOpened():\n",
    "    # Поиск движущихся объектов\n",
    "    diff = cv2.absdiff(frame1, frame2)\n",
    "    gray = cv2.cvtColor(diff, cv2.COLOR_BGR2GRAY)\n",
    "    blur = cv2.GaussianBlur(gray, (5, 5), 0)\n",
    "    dilated = cv2.dilate(blur, None, iterations=3)\n",
    "    _ , thresh = cv2.threshold(dilated, 20, 255, cv2.THRESH_BINARY)\n",
    "    \n",
    "    cntrs, _ = cv2.findContours(thresh, cv2.RETR_TREE, cv2.CHAIN_APPROX_SIMPLE)\n",
    "    for cntr in cntrs:\n",
    "        if cv2.contourArea(cntr) < 500:\n",
    "            continue\n",
    "        (x, y, w, h) = cv2.boundingRect(cntr)\n",
    "        cv2.rectangle(frame1, (x, y), (x + w, y + h), (0, 255, 0), 2)\n",
    "    \n",
    "    # Поиск движения камеры\n",
    "    # Рассчитаем следующую точку для получения направления движения\n",
    "    p1, st, err = cv2.calcOpticalFlowPyrLK(cv2.cvtColor(frame1, cv2.COLOR_BGR2GRAY), cv2.cvtColor(frame2, cv2.COLOR_BGR2GRAY), p0, None, **lk_params)\n",
    "\n",
    "    # Если отслеживаемые точки остались за кадром то найдем их снова\n",
    "    if p1.shape[0] < 2:\n",
    "        p0 = cv2.goodFeaturesToTrack(cv2.cvtColor(frame1, cv2.COLOR_BGR2GRAY), mask = None, **feature_params)\n",
    "        fr_w = 0\n",
    "        fr_h = 0\n",
    "        p1, st, err = cv2.calcOpticalFlowPyrLK(cv2.cvtColor(frame1, cv2.COLOR_BGR2GRAY), cv2.cvtColor(frame2, cv2.COLOR_BGR2GRAY), p0, None, **lk_params)\n",
    "    # Если st==1, то было движение\n",
    "    good_new = p1[st==1]\n",
    "    good_old = p0[st==1]\n",
    "    \n",
    "    # Рассчет новой ширины и высоты смещения кадра по смещению 1 точки из отслеживаемых\n",
    "    fr_w += good_new[0][0] - good_old[0][0]\n",
    "    fr_h += good_new[0][1] - good_old[0][1]\n",
    "    #fr_w += (good_new[:, 0] - good_old[:, 0]).mean()\n",
    "    #fr_h += (good_new[:, 1] - good_old[:, 1]).mean()\n",
    "    # Нарисуем черные прямоугольники для компенсации кадра\n",
    "    if fr_w >= 0:\n",
    "        cv2.rectangle(frame1, (0, 0), (int(fr_w), frame1.shape[0]), (0, 0, 0), -1)\n",
    "    else:\n",
    "        cv2.rectangle(frame1, (frame1.shape[1] - int(-fr_w), 0), (frame1.shape[1], frame1.shape[0]), (0, 0, 0), -1)\n",
    "    \n",
    "    if fr_h >= 0:\n",
    "        cv2.rectangle(frame1, (0, 0), (frame1.shape[1], int(fr_h)), (0, 0, 0), -1)\n",
    "    else:\n",
    "        cv2.rectangle(frame1, (0, frame1.shape[0] - int(-fr_h)), (frame1.shape[1], frame1.shape[0]), (0, 0, 0), -1)\n",
    "    \n",
    "    \n",
    "    # Выведем видео\n",
    "    cv2.imshow('Video', frame1)                \n",
    "    \n",
    "    frame1 = frame2\n",
    "    ret, frame2 = cap.read()\n",
    "    p0 = good_new.reshape(-1,1,2)\n",
    "    \n",
    "    # Крутимся в цикле, пока пользователь не нажмет Esc.\n",
    "    # По нажатию Space фиксируем кадр для отслеживания движения камеры\n",
    "    key = cv2.waitKey(1)\n",
    "    if key == 27:  # Esc\n",
    "        break\n",
    "    elif key == 32: # Space\n",
    "        p0 = cv2.goodFeaturesToTrack(cv2.cvtColor(frame1, cv2.COLOR_BGR2GRAY), mask = None, **feature_params)\n",
    "        #p0 = np.float32(np.array([np.array([np.array([0, frame1.shape[1]//2])]), \n",
    "        #       np.array([np.array([frame1.shape[0]//2, 0])]),\n",
    "        #       np.array([np.array([frame1.shape[0], frame1.shape[1]//2])]),\n",
    "        #       np.array([np.array([frame1.shape[0]//2, frame1.shape[1]])])]))\n",
    "        fr_w = 0\n",
    "        fr_h = 0\n",
    "\n",
    "# Отпускаем видеопоток, закрываем все окна.\n",
    "# Если из-за ошибки мы сюда не доберемся, это надо сделать вручную, а то придется перезапускать ядро.\n",
    "cap.release()\n",
    "cv2.destroyAllWindows()"
   ]
  },
  {
   "cell_type": "code",
   "execution_count": 78,
   "metadata": {},
   "outputs": [
    {
     "name": "stdout",
     "output_type": "stream",
     "text": [
      "[[[  0. 320.]]\n",
      "\n",
      " [[240.   0.]]\n",
      "\n",
      " [[480. 320.]]\n",
      "\n",
      " [[240. 640.]]]\n"
     ]
    }
   ],
   "source": [
    "a = np.float32(np.array([np.array([np.array([0, frame1.shape[1]//2])]), \n",
    "                np.array([np.array([frame1.shape[0]//2, 0])]),\n",
    "                np.array([np.array([frame1.shape[0], frame1.shape[1]//2])]),\n",
    "                np.array([np.array([frame1.shape[0]//2, frame1.shape[1]])])]))\n",
    "print(np.float32(a))"
   ]
  },
  {
   "cell_type": "code",
   "execution_count": 72,
   "metadata": {},
   "outputs": [
    {
     "data": {
      "text/plain": [
       "(480, 640, 3)"
      ]
     },
     "execution_count": 72,
     "metadata": {},
     "output_type": "execute_result"
    }
   ],
   "source": [
    "frame1.shape"
   ]
  }
 ],
 "metadata": {
  "kernelspec": {
   "display_name": "Python 3",
   "language": "python",
   "name": "python3"
  },
  "language_info": {
   "codemirror_mode": {
    "name": "ipython",
    "version": 3
   },
   "file_extension": ".py",
   "mimetype": "text/x-python",
   "name": "python",
   "nbconvert_exporter": "python",
   "pygments_lexer": "ipython3",
   "version": "3.7.6"
  }
 },
 "nbformat": 4,
 "nbformat_minor": 4
}
