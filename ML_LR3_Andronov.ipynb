{
 "cells": [
  {
   "cell_type": "markdown",
   "metadata": {},
   "source": [
    "### Задание:\n",
    "Необходимо разработать программу, обеспечивающую кластеризацию новостного потока с сайта [\n",
    "https://www.newsvl.ru/](https://www.newsvl.ru/vlad/2019/01/19/). \n",
    "Некоторые новостные ленты содержат в себе тематические пометы. Необходимо выбрать новостную ленту с такими пометами, загрузить с нее новости, провести их кластеризацию и проверить точность кластеризации по тематическим пометам.\n",
    "\n",
    "### Требования к заданию:\n",
    "1. выгрузить новостную ленту с тематическими пометками;\n",
    "2. векторизовать тексты новостей;\n",
    "3. кластеризовать векторы новостей;\n",
    "4. выбрать число кластеров одним из методов оценки (локтя, Дэвиса-Болдуина, …), оценить качество кластеризации по RAND Index;\n",
    "5. оформить всё в виде работоспособной программы."
   ]
  },
  {
   "cell_type": "markdown",
   "metadata": {},
   "source": [
    "### Загрузка новостей\n",
    "Загрузим необходимые библиотеки."
   ]
  },
  {
   "cell_type": "code",
   "execution_count": 1,
   "metadata": {},
   "outputs": [],
   "source": [
    "import requests # Загрузка новостей с сайта.\n",
    "from bs4 import BeautifulSoup # Превращалка html в текст."
   ]
  },
  {
   "cell_type": "markdown",
   "metadata": {},
   "source": [
    "Выделим заголовок и текст из новостной страницы"
   ]
  },
  {
   "cell_type": "code",
   "execution_count": 79,
   "metadata": {},
   "outputs": [],
   "source": [
    "def get_news_text(url):\n",
    "    page_text = requests.get(url).text\n",
    "    bs=BeautifulSoup(page_text, \"html5lib\")\n",
    "    title = None\n",
    "    # Заголовок\n",
    "    title = bs.h1.text\n",
    "    # Сам текст\n",
    "    whole_text = bs.find_all('div', 'story__text')\n",
    "    text = None\n",
    "    for i in range(len(whole_text)):\n",
    "        text = \" \".join([p.text for p in whole_text[i].find_all(\"p\")])\n",
    "        if not text:\n",
    "            text = \" \".join(whole_text[i].text.split('\\n\\n'))\n",
    "    return {'title': title, \n",
    "            'text': text}\n",
    "    "
   ]
  },
  {
   "cell_type": "markdown",
   "metadata": {},
   "source": [
    "Переберем все страницы в цикле"
   ]
  },
  {
   "cell_type": "code",
   "execution_count": 64,
   "metadata": {},
   "outputs": [],
   "source": [
    "from datetime import date\n",
    "from datetime import timedelta"
   ]
  },
  {
   "cell_type": "code",
   "execution_count": 60,
   "metadata": {},
   "outputs": [],
   "source": [
    "def get_day_news_links(day):\n",
    "    links = []\n",
    "    \n",
    "    # Формируем url страницы со списком новостей\n",
    "    url_root = 'https://www.newsvl.ru'\n",
    "    url = url_root + '/vlad/' + str(day.year) + '/' + str(day.month) + '/' + str(day.day)\n",
    "    \n",
    "    # получаем текст страницы\n",
    "    page_text = requests.get(url).text\n",
    "    bs=BeautifulSoup(page_text, \"html5lib\")\n",
    "    \n",
    "    # ветви дерева с новостями\n",
    "    whole_text = bs.find_all('div', 'story-list__item')\n",
    "    for i in range(len(whole_text)):\n",
    "        # ссылки на новости начинаются с тега h3\n",
    "        item_title = whole_text[i].find_all(\"h3\")\n",
    "        for j in range(len(item_title)):\n",
    "            # Вытаскиваем ссылки в тегах a\n",
    "            link = item_title[0].find('a').get('href')\n",
    "            links.append(url_root + link)\n",
    "    return links"
   ]
  },
  {
   "cell_type": "code",
   "execution_count": 111,
   "metadata": {},
   "outputs": [],
   "source": [
    " # Сохраняем статьи в файл.\n",
    "def saveArticle(filename, art, date):\n",
    "    newsfile=open(filename, 'a', encoding='utf-8')\n",
    "    title = str(art['title']).encode().decode('utf-8')\n",
    "    text = str(art['text']).encode().decode('utf-8')\n",
    "    text = text.strip('\\n')\n",
    "    text = text.strip()\n",
    "    newsfile.write('\\n=====\\n'+title)\n",
    "    newsfile.write('\\n' + str(date.year) + '/' + str(date.month) + '/' + str(date.day))\n",
    "    newsfile.write('\\n-----\\n'+text)\n",
    "    newsfile.close()"
   ]
  },
  {
   "cell_type": "code",
   "execution_count": 119,
   "metadata": {},
   "outputs": [
    {
     "name": "stdout",
     "output_type": "stream",
     "text": [
      "'NoneType' object has no attribute 'text'\n",
      "Date: 2005-08-17\n",
      "step: 228\n",
      "HTTPSConnectionPool(host='www.newsvl.ru', port=443): Max retries exceeded with url: /vlad/2020/02/13/187723/ (Caused by NewConnectionError('<urllib3.connection.VerifiedHTTPSConnection object at 0x000002716269CF88>: Failed to establish a new connection: [WinError 10060] Попытка установить соединение была безуспешной, т.к. от другого компьютера за требуемое время не получен нужный отклик, или было разорвано уже установленное соединение из-за неверного отклика уже подключенного компьютера'))\n",
      "Date: 2020-02-13\n",
      "step: 5521\n",
      "Success!!!\n",
      "\n",
      "Wall time: 16h 18min 9s\n"
     ]
    }
   ],
   "source": [
    "%%time\n",
    "filename = r'D:\\hse_iot\\ml_hse_2020\\data\\articles_LR3.txt'\n",
    "newsfile=open(filename, 'w', encoding='utf-8')\n",
    "newsfile.close()\n",
    "#start_date = date(2010, 1, 1)\n",
    "start_date = date(2005, 1, 1)\n",
    "day = start_date\n",
    "one_day_delta = timedelta(days=1)\n",
    "stop_date = date.today() + one_day_delta\n",
    "#stop_date = date(2010, 2, 2) + one_day_delta\n",
    "whole_days = stop_date - day\n",
    "while day != stop_date:\n",
    "    links_list = []\n",
    "    links_list = get_day_news_links(day)\n",
    "    for link in links_list:\n",
    "        try:\n",
    "            res = get_news_text(link)\n",
    "            saveArticle(filename, res, day)\n",
    "        except Exception as err:\n",
    "            print(err)\n",
    "            print('Date: ' + str(day))\n",
    "            print('step: ' + str((day - start_date).days))\n",
    "    print(str((day - start_date).days)+\"/\"+str((whole_days-one_day_delta).days), end='\\r')\n",
    "    \n",
    "    day += one_day_delta\n",
    "\n",
    "print(str((day - start_date).days)+\"/\"+str((whole_days-one_day_delta).days), end='\\r')\n",
    "print('Success!!!\\n')"
   ]
  },
  {
   "cell_type": "markdown",
   "metadata": {},
   "source": [
    "### Обработка"
   ]
  },
  {
   "cell_type": "code",
   "execution_count": 28,
   "metadata": {},
   "outputs": [],
   "source": [
    "import pandas as pd"
   ]
  },
  {
   "cell_type": "code",
   "execution_count": 123,
   "metadata": {},
   "outputs": [],
   "source": [
    "newsfile = open(r'D:\\hse_iot\\ml_hse_2020\\data\\articles_LR3_last.txt', 'r', encoding='utf-8')\n",
    "text_news = [(n.split(\"\\n-----\\n\")[0].split('\\n')[0], \n",
    "              n.split(\"\\n-----\\n\")[0].split('\\n')[1], \n",
    "              n.split(\"\\n-----\\n\")[1]) for n in newsfile.read().split(\"\\n=====\\n\")[1:]]\n",
    "news = pd.DataFrame(text_news, columns = ['Header', 'Date', 'News'])\n",
    "newsfile.close()"
   ]
  },
  {
   "cell_type": "code",
   "execution_count": 124,
   "metadata": {},
   "outputs": [
    {
     "name": "stdout",
     "output_type": "stream",
     "text": [
      "<class 'pandas.core.frame.DataFrame'>\n",
      "RangeIndex: 82282 entries, 0 to 82281\n",
      "Data columns (total 3 columns):\n",
      " #   Column  Non-Null Count  Dtype \n",
      "---  ------  --------------  ----- \n",
      " 0   Header  82282 non-null  object\n",
      " 1   Date    82282 non-null  object\n",
      " 2   News    82282 non-null  object\n",
      "dtypes: object(3)\n",
      "memory usage: 1.9+ MB\n"
     ]
    }
   ],
   "source": [
    "news.info()"
   ]
  },
  {
   "cell_type": "code",
   "execution_count": 125,
   "metadata": {},
   "outputs": [
    {
     "data": {
      "text/html": [
       "<div>\n",
       "<style scoped>\n",
       "    .dataframe tbody tr th:only-of-type {\n",
       "        vertical-align: middle;\n",
       "    }\n",
       "\n",
       "    .dataframe tbody tr th {\n",
       "        vertical-align: top;\n",
       "    }\n",
       "\n",
       "    .dataframe thead th {\n",
       "        text-align: right;\n",
       "    }\n",
       "</style>\n",
       "<table border=\"1\" class=\"dataframe\">\n",
       "  <thead>\n",
       "    <tr style=\"text-align: right;\">\n",
       "      <th></th>\n",
       "      <th>Header</th>\n",
       "      <th>Date</th>\n",
       "      <th>News</th>\n",
       "    </tr>\n",
       "  </thead>\n",
       "  <tbody>\n",
       "    <tr>\n",
       "      <th>82277</th>\n",
       "      <td>ДГК отремонтировала три квартиры на Окатовой</td>\n",
       "      <td>2020/11/4</td>\n",
       "      <td>Дальневосточная генерирующая компания сообщает...</td>\n",
       "    </tr>\n",
       "    <tr>\n",
       "      <th>82278</th>\n",
       "      <td>117 единиц дорожной техники для Владивостока з...</td>\n",
       "      <td>2020/11/4</td>\n",
       "      <td>В этом году для муниципального предприятия «Со...</td>\n",
       "    </tr>\n",
       "    <tr>\n",
       "      <th>82279</th>\n",
       "      <td>Владивосток отмечает юбилей получения звания «...</td>\n",
       "      <td>2020/11/4</td>\n",
       "      <td>Ровно 10 лет Владивосток зовётся «Городом воин...</td>\n",
       "    </tr>\n",
       "    <tr>\n",
       "      <th>82280</th>\n",
       "      <td>В аэропорту Владивостока отменён рейс в Терней</td>\n",
       "      <td>2020/11/4</td>\n",
       "      <td>Сегодня, 4 ноября, отменён вылет рейса HZ-534 ...</td>\n",
       "    </tr>\n",
       "    <tr>\n",
       "      <th>82281</th>\n",
       "      <td>Сегодня во Владивостоке 4…6 °С</td>\n",
       "      <td>2020/11/4</td>\n",
       "      <td>В среду, 4 ноября, во Владивостоке без осадков...</td>\n",
       "    </tr>\n",
       "  </tbody>\n",
       "</table>\n",
       "</div>"
      ],
      "text/plain": [
       "                                                  Header       Date  \\\n",
       "82277       ДГК отремонтировала три квартиры на Окатовой  2020/11/4   \n",
       "82278  117 единиц дорожной техники для Владивостока з...  2020/11/4   \n",
       "82279  Владивосток отмечает юбилей получения звания «...  2020/11/4   \n",
       "82280     В аэропорту Владивостока отменён рейс в Терней  2020/11/4   \n",
       "82281                     Сегодня во Владивостоке 4…6 °С  2020/11/4   \n",
       "\n",
       "                                                    News  \n",
       "82277  Дальневосточная генерирующая компания сообщает...  \n",
       "82278  В этом году для муниципального предприятия «Со...  \n",
       "82279  Ровно 10 лет Владивосток зовётся «Городом воин...  \n",
       "82280  Сегодня, 4 ноября, отменён вылет рейса HZ-534 ...  \n",
       "82281  В среду, 4 ноября, во Владивостоке без осадков...  "
      ]
     },
     "execution_count": 125,
     "metadata": {},
     "output_type": "execute_result"
    }
   ],
   "source": [
    "news.tail()"
   ]
  },
  {
   "cell_type": "code",
   "execution_count": 122,
   "metadata": {},
   "outputs": [
    {
     "data": {
      "text/plain": [
       "datetime.date(2020, 11, 23)"
      ]
     },
     "execution_count": 122,
     "metadata": {},
     "output_type": "execute_result"
    }
   ],
   "source": [
    "date(2020, 11, 4)"
   ]
  }
 ],
 "metadata": {
  "kernelspec": {
   "display_name": "Python 3",
   "language": "python",
   "name": "python3"
  },
  "language_info": {
   "codemirror_mode": {
    "name": "ipython",
    "version": 3
   },
   "file_extension": ".py",
   "mimetype": "text/x-python",
   "name": "python",
   "nbconvert_exporter": "python",
   "pygments_lexer": "ipython3",
   "version": "3.7.6"
  }
 },
 "nbformat": 4,
 "nbformat_minor": 4
}
