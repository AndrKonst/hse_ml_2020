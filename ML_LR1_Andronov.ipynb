{
 "cells": [
  {
   "cell_type": "code",
   "execution_count": 227,
   "metadata": {},
   "outputs": [],
   "source": [
    "from PIL import Image, ImageDraw, JpegImagePlugin\n",
    "from matplotlib import pyplot as plt\n",
    "from matplotlib import patches\n",
    "from scipy import ndimage, misc\n",
    "import numpy as np"
   ]
  },
  {
   "cell_type": "code",
   "execution_count": 343,
   "metadata": {},
   "outputs": [],
   "source": [
    "test_image = Image.open('test.jpg')"
   ]
  },
  {
   "cell_type": "code",
   "execution_count": 335,
   "metadata": {
    "scrolled": false
   },
   "outputs": [
    {
     "data": {
      "image/png": "[encoded data removed]",
      "text/plain": [
       "<PIL.JpegImagePlugin.JpegImageFile image mode=RGB size=798x512 at 0x19DD1A59748>"
      ]
     },
     "execution_count": 335,
     "metadata": {},
     "output_type": "execute_result"
    }
   ],
   "source": [
    "test_image"
   ]
  },
  {
   "cell_type": "code",
   "execution_count": 188,
   "metadata": {},
   "outputs": [],
   "source": [
    "def rgb2grey(image):\n",
    "    image_draw = ImageDraw.Draw(image)\n",
    "    pix = image.load()\n",
    "    for x in range(image.size[0]):\n",
    "        for y in range(image.size[1]):\n",
    "            av = int(0.2989*pix[x, y][0] + 0.5870*pix[x, y][1] + 0.1140*pix[x, y][2])\n",
    "            image_draw.point((x, y), (av, av, av))\n",
    "    return image"
   ]
  },
  {
   "cell_type": "code",
   "execution_count": 189,
   "metadata": {},
   "outputs": [],
   "source": [
    "k = np.array([[1,2,1],[0,0,0],[-1,-2,-1]])"
   ]
  },
  {
   "cell_type": "code",
   "execution_count": 384,
   "metadata": {},
   "outputs": [],
   "source": [
    "def find_horizontal_lines(image, k, line_width, line_height, lim = 800):\n",
    "    '''\n",
    "        Возвращает словарь с координатами найденных горизонтальных линий формата\n",
    "        {x: (start_y, stop_y)} \n",
    "    '''\n",
    "    if type(image) == JpegImagePlugin.JpegImageFile:\n",
    "        image = rgb2grey(image)\n",
    "        image_pix = image.load()\n",
    "        image_np = np.array([[image_pix[x, y][0] for x in range(image.size[0])] for y in range(image.size[1])])\n",
    "    elif type(image) == np.ndarray:\n",
    "        image_np = image\n",
    "    res = ndimage.convolve(image_np, k, mode='constant', cval=0.0)\n",
    "    \n",
    "    lines = {}\n",
    "    for x in range(res.shape[0]):\n",
    "        same_bits_cnt = 0\n",
    "        value = 0\n",
    "        start_y = 0\n",
    "        stop_y = 0\n",
    "        stop_y = 0\n",
    "        for y in range(res.shape[1]):\n",
    "            if res[x, y] != 0 and abs(res[x, y]) > lim:\n",
    "                same_bits_cnt += 1\n",
    "                value = res[x, y]\n",
    "                stop_y = y\n",
    "                if same_bits_cnt == 1:\n",
    "                    start_y = y\n",
    "        if same_bits_cnt > line_width:\n",
    "            lines[x] = (start_y, stop_y)\n",
    "    lines_keys = [x for x in lines]\n",
    "    \n",
    "    return lines, res"
   ]
  },
  {
   "cell_type": "code",
   "execution_count": 385,
   "metadata": {},
   "outputs": [
    {
     "data": {
      "image/png": "[encoded data removed]",
      "text/plain": [
       "<Figure size 1440x1080 with 2 Axes>"
      ]
     },
     "metadata": {
      "needs_background": "light"
     },
     "output_type": "display_data"
    }
   ],
   "source": [
    "fig, (ax1, ax2) = plt.subplots(1, 2, figsize=(20,15))\n",
    "plt.gray()\n",
    "lines, res = find_horizontal_lines(test_image, k, 20, 5)\n",
    "ax1.imshow(test_image)\n",
    "res_im = test_image.copy()\n",
    "res_im_draw = ImageDraw.Draw(res_im)\n",
    "pix = res_im.load()\n",
    "for x in range(res_im.size[0]):\n",
    "    for y in range(res_im.size[1]):\n",
    "        if lines.get(y) == None:\n",
    "            res_im_draw.point((x, y), (200, 0, 0))\n",
    "        else:\n",
    "            if x < lines[y][0] or x > lines[y][1]:\n",
    "                res_im_draw.point((x, y), (200, 0, 0))\n",
    "ax2.imshow(res_im)\n",
    "plt.show()"
   ]
  },
  {
   "cell_type": "code",
   "execution_count": 386,
   "metadata": {},
   "outputs": [
    {
     "data": {
      "text/plain": [
       "{129: (64, 716),\n",
       " 130: (64, 716),\n",
       " 132: (64, 716),\n",
       " 133: (64, 716),\n",
       " 249: (76, 725),\n",
       " 250: (76, 725),\n",
       " 252: (76, 725),\n",
       " 253: (76, 725),\n",
       " 358: (88, 729),\n",
       " 359: (88, 729),\n",
       " 361: (88, 729),\n",
       " 362: (88, 729)}"
      ]
     },
     "execution_count": 386,
     "metadata": {},
     "output_type": "execute_result"
    }
   ],
   "source": [
    "lines"
   ]
  }
 ],
 "metadata": {
  "kernelspec": {
   "display_name": "Python 3",
   "language": "python",
   "name": "python3"
  },
  "language_info": {
   "codemirror_mode": {
    "name": "ipython",
    "version": 3
   },
   "file_extension": ".py",
   "mimetype": "text/x-python",
   "name": "python",
   "nbconvert_exporter": "python",
   "pygments_lexer": "ipython3",
   "version": "3.7.6"
  }
 },
 "nbformat": 4,
 "nbformat_minor": 4
}
